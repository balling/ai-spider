{
 "cells": [
  {
   "cell_type": "markdown",
   "metadata": {},
   "source": [
    "# Deep Q-Network (DQN)\n",
    "---\n",
    "In this notebook, you will implement a DQN agent with OpenAI Gym's LunarLander-v2 environment.\n",
    "\n",
    "### 1. Import the Necessary Packages"
   ]
  },
  {
   "cell_type": "code",
   "execution_count": 1,
   "metadata": {},
   "outputs": [],
   "source": [
    "import random\n",
    "import torch\n",
    "import numpy as np\n",
    "from infra.game import Game\n",
    "from infra.util import getValidMoves\n",
    "import csv\n",
    "import math\n",
    "from collections import deque\n",
    "import matplotlib.pyplot as plt\n",
    "from dqn_agent import Agent\n",
    "from tqdm import tqdm_notebook\n",
    "%matplotlib inline"
   ]
  },
  {
   "cell_type": "markdown",
   "metadata": {},
   "source": [
    "### 3. Train the Agent with DQN\n",
    "\n",
    "Run the code cell below to train the agent from scratch.  You are welcome to amend the supplied values of the parameters in the function, to try to see if you can get better performance!\n",
    "\n",
    "Alternatively, you can skip to the next step below (**4. Watch a Smart Agent!**), to load the saved model weights from a pre-trained agent."
   ]
  },
  {
   "cell_type": "code",
   "execution_count": null,
   "metadata": {
    "scrolled": true
   },
   "outputs": [
    {
     "data": {
      "application/vnd.jupyter.widget-view+json": {
       "model_id": "7a6e493531c54d2389c9a01b060dbe4f",
       "version_major": 2,
       "version_minor": 0
      },
      "text/html": [
       "<p>Failed to display Jupyter Widget of type <code>HBox</code>.</p>\n",
       "<p>\n",
       "  If you're reading this message in the Jupyter Notebook or JupyterLab Notebook, it may mean\n",
       "  that the widgets JavaScript is still loading. If this message persists, it\n",
       "  likely means that the widgets JavaScript library is either not installed or\n",
       "  not enabled. See the <a href=\"https://ipywidgets.readthedocs.io/en/stable/user_install.html\">Jupyter\n",
       "  Widgets Documentation</a> for setup instructions.\n",
       "</p>\n",
       "<p>\n",
       "  If you're reading this message in another frontend (for example, a static\n",
       "  rendering on GitHub or <a href=\"https://nbviewer.jupyter.org/\">NBViewer</a>),\n",
       "  it may mean that your frontend doesn't currently support widgets.\n",
       "</p>\n"
      ],
      "text/plain": [
       "HBox(children=(IntProgress(value=0, max=20000), HTML(value='')))"
      ]
     },
     "metadata": {},
     "output_type": "display_data"
    },
    {
     "name": "stdout",
     "output_type": "stream",
     "text": [
      "Episode 100\tAverage Score: 505.89 \tCompleted: 0.01, eps: 0.4523960735568548, lr: 0.005\n",
      "Episode 200\tAverage Score: 514.33 \tCompleted: 0.02, eps: 0.409324414739318, lr: 0.005\n",
      "Episode 300\tAverage Score: 532.51 \tCompleted: 0.02666666666666667, eps: 0.37035351607804984, lr: 0.005\n",
      "Episode 400\tAverage Score: 512.19 \tCompleted: 0.025, eps: 0.33509295300337016, lr: 0.005\n"
     ]
    }
   ],
   "source": [
    "def dqn(n_episodes=20000, eps_start=0.5, eps_end=0.02, eps_decay=0.999):\n",
    "    \"\"\"Deep Q-Learning.\n",
    "    \n",
    "    Params\n",
    "    ======\n",
    "        n_episodes (int): maximum number of training episodes\n",
    "        eps_start (float): starting value of epsilon, for epsilon-greedy action selection\n",
    "        eps_end (float): minimum value of epsilon\n",
    "        eps_decay (float): multiplicative factor (per episode) for decreasing epsilon\n",
    "    \"\"\"\n",
    "    cp = []                        # list containing scores from each episode\n",
    "    scores_window = deque(maxlen=100)  # last 100 scores\n",
    "    numCompleted = 0\n",
    "    eps = eps_start                    # initialize epsilon\n",
    "#     for i in tqdm_notebook(range(200)):\n",
    "#         game = Game(i)\n",
    "#         game.createGame((0, 0, 0, 0))\n",
    "#         game.startGame()\n",
    "#         score = game.score\n",
    "#         moves = game.getValidMoves()\n",
    "#         while not game.won() and moves:\n",
    "#             state = np.array(game.getStateForDQN())\n",
    "#             move = moves[0] if random.random() > 0.01 else moves[-1]\n",
    "#             game.performMoves(move)\n",
    "#             reward = game.score - score\n",
    "#             next_state = np.array(game.getStateForDQN())\n",
    "#             if move[1]=='deal':\n",
    "#                 action = 1080\n",
    "#             else:\n",
    "#                 _, _, ncards, from_stack, to_stack = move\n",
    "#                 f = from_stack.id-1\n",
    "#                 t = to_stack.id-1\n",
    "#                 action = (f*9+t-(f<t))*12+ncards-1\n",
    "#             #print(state, action, reward, next_state, game.won())\n",
    "#             agent.step(state, action, reward, next_state, game.won())\n",
    "#             moves = game.getValidMoves()\n",
    "#             score = game.score\n",
    "#         #print(game.score, game.won())\n",
    "#     torch.save(agent.qnetwork_local.state_dict(), 'checkpoint-greedy-2.pth')\n",
    "    for i_episode in tqdm_notebook(range(1, n_episodes+1)):\n",
    "        game = Game(i_episode)\n",
    "        game.createGame((0, 0, 0, 0))\n",
    "        game.startGame()\n",
    "        score = game.score\n",
    "        moves = getValidMoves(game.getVisibleState())\n",
    "        # one game till win the game or cannot move\n",
    "        while not game.won() and moves:\n",
    "            state = np.array(game.getStateForDQN())\n",
    "#             if random.random() > 0.1:\n",
    "#                 move = game.getValidMoves()[0]\n",
    "#                 if move[1]=='deal':\n",
    "#                     action = 1080\n",
    "#                 else:\n",
    "#                     _, _, ncards, from_stack, to_stack = move\n",
    "#                     f = from_stack.id-1\n",
    "#                     t = to_stack.id-1\n",
    "#                     action = (f*9+t-(f<t))*12+ncards-1\n",
    "#             else:\n",
    "            action = agent.act(state, moves, eps)\n",
    "            game.performMovesForDQN(action)\n",
    "            next_state = np.array(game.getStateForDQN())\n",
    "            reward = game.score - score\n",
    "            won = game.won()\n",
    "            if won:\n",
    "#                 reward += 10000\n",
    "                numCompleted += 1\n",
    "            agent.step(state, action, reward, next_state, game.won())\n",
    "            moves = getValidMoves(game.getVisibleState())\n",
    "            score = game.score\n",
    "        scores_window.append(score)       # save most recent score\n",
    "        eps = max(eps_end, eps_decay*eps) # decrease epsilon\n",
    "#         print('\\rEpisode {}\\tAverage Score: {:.2f} \\tCompleted: {}'.format(i_episode, score, completed), end=\"\")\n",
    "        if i_episode % 100 == 0:\n",
    "            completed = numCompleted/i_episode\n",
    "            cp.append(completed)\n",
    "            print('\\rEpisode {}\\tAverage Score: {:.2f} \\tCompleted: {}, eps: {}, lr: {}'.format(i_episode, np.mean(scores_window), completed, eps, agent.optimizer.param_groups[0]['lr']))\n",
    "#             max_completed = max(max_completed, completed)\n",
    "#             if completed < max_completed - 0.015:\n",
    "#                 print('completed decreasing {:.2f} {:.2f}'.format(completed, max_completed))\n",
    "#                 break\n",
    "#         if numCompleted * 1.0 / i_episode > 0.45:\n",
    "#             print('\\nEnvironment solved in {:d} episodes!\\tNumber of complted game: {:.2f}'.format(i_episode, numCompleted))\n",
    "#             torch.save(agent.qnetwork_local.state_dict(), 'checkpoint.pth')\n",
    "#             break\n",
    "    print('\\nRunning all {:d} episodes!\\tNumber of completed game: {:.2f}'.format(i_episode, numCompleted))\n",
    "    torch.save(agent.qnetwork_local.state_dict(), 'checkpoint.pth')\n",
    "    return cp, numCompleted\n",
    "\n",
    "agent = Agent(state_size=141, action_size=1081, seed=0)\n",
    "# agent.qnetwork_local.load_state_dict(torch.load('checkpoint-greedy.pth'))\n",
    "cp, numCompleted = dqn()\n",
    "# cp, numCompleted = dqn(20000, 0.02)\n",
    "\n",
    "# plot the scores\n",
    "print(numCompleted)\n",
    "fig = plt.figure()\n",
    "ax = fig.add_subplot(111)\n",
    "plt.plot(np.arange(len(cp)), cp)\n",
    "plt.ylabel('Score')\n",
    "plt.xlabel('Episode #/K')\n",
    "plt.show()"
   ]
  },
  {
   "cell_type": "code",
   "execution_count": 10,
   "metadata": {},
   "outputs": [
    {
     "data": {
      "text/plain": [
       "0.005"
      ]
     },
     "execution_count": 10,
     "metadata": {},
     "output_type": "execute_result"
    }
   ],
   "source": [
    "agent.optimizer.param_groups[0]['lr']"
   ]
  },
  {
   "cell_type": "markdown",
   "metadata": {},
   "source": [
    "### 4. Watch a Smart Agent!\n",
    "\n",
    "In the next code cell, you will load the trained weights from file to watch a smart agent!"
   ]
  },
  {
   "cell_type": "code",
   "execution_count": 16,
   "metadata": {},
   "outputs": [
    {
     "name": "stdout",
     "output_type": "stream",
     "text": [
      "-♤ 10- -♤  K- -♤  A- -♤  3- -♤  8- -♤  7- -♤  4- -♤ 10- -♤  9- -♤  6-\n",
      "-♤  2- -♤  9- -♤  Q- -♤  5- -♤  3- -♤ 10- -♤  6- -♤  Q- -♤  5- -♤  5-\n",
      "-♤  9- -♤  A- -♤  3- -♤  9- -♤  7- -♤  K- -♤  Q- -♤  3- -♤  2- -♤  K-\n",
      "-♤  9- -♤  4- -♤ 10- -♤  8- -♤  A- -♤  8- -♤  7- -♤  7- -♤ 10- -♤  2-\n",
      "-♤  7- -♤  3- -♤  K- -♤  Q-  ♤  8   ♤  3   ♤  9   ♤  7   ♤  Q   ♤  2 \n",
      " ♤ 10   ♤  A   ♤  Q   ♤  2                                           \n",
      "Game#10000 Score: 500   Moves: 0   Completed: 0   Undealt: 5\n",
      "-♤ 10- -♤  K- -♤  A- -♤  3- -♤  8- -♤  7- -♤  4- -♤ 10- -♤  9- -♤  6-\n",
      "-♤  2- -♤  9- -♤  Q- -♤  5- -♤  3- -♤ 10- -♤  6- -♤  Q- -♤  5- -♤  5-\n",
      "-♤  9- -♤  A- -♤  3- -♤  9- -♤  7- -♤  K- -♤  Q- -♤  3- -♤  2- -♤  K-\n",
      "-♤  9- -♤  4- -♤ 10- -♤  8- -♤  A- -♤  8- -♤  7- -♤  7- -♤ 10- -♤  2-\n",
      "-♤  7- -♤  3- -♤  K- -♤  Q-  ♤  8   ♤  3   ♤  9   ♤  7   ♤  Q   ♤  2 \n",
      " ♤ 10   ♤  A   ♤  Q   ♤  2   ♤  8   ♤  2   ♤  J   ♤  6   ♤  5   ♤  5 \n",
      " ♤ 10   ♤  6   ♤  J   ♤  J   ♤  4   ♤  K   ♤  J   ♤  5   ♤ 10   ♤  A \n",
      " ♤  4   ♤  J          ♤  J   ♤  Q   ♤  5   ♤  9   ♤  4   ♤  A   ♤  9 \n",
      "        ♤  K          ♤  J   ♤  6   ♤  K   ♤  8   ♤  3   ♤  8   ♤  8 \n",
      "        ♤  4                        ♤  K   ♤  7   ♤  2   ♤  4   ♤  7 \n",
      "        ♤  6                        ♤  Q   ♤  6   ♤  A   ♤  3   ♤  6 \n",
      "                                    ♤  J   ♤  5          ♤  2        \n",
      "                                           ♤  4          ♤  A        \n",
      "Game#10000 Score: 480   Moves: 20   Completed: 0   Undealt: 0\n",
      "Game#10000 [Lost] Score: 480   Moves: 20   Completed: 0\n",
      "Game#10000 Score: 1136   Moves: 172   Completed: 8   Undealt: 0\n",
      "Game#10000 [Won] Score: 1136   Moves: 172   Completed: 8\n"
     ]
    }
   ],
   "source": [
    "# load the weights from file\n",
    "agent.qnetwork_local.load_state_dict(torch.load('checkpoint.pth'))\n",
    "\n",
    "game = Game(10000)\n",
    "game.createGame((0, 0, 0, 0))\n",
    "game.startGame()\n",
    "print(game)\n",
    "moves = getValidMoves(game.getVisibleState())\n",
    "while not game.won() and moves:\n",
    "    state = np.array(game.getStateForDQN())\n",
    "    action = agent.act(state, moves)\n",
    "    game.performMovesForDQN(action)\n",
    "    moves = getValidMoves(game.getVisibleState())\n",
    "print(game)\n",
    "print('Game#%d [%s] Score: %d   Moves: %d   Completed: %d' %\n",
    "                      (game.id, 'Won' if game.won() else 'Lost', game.score, game.moves, game.completed))\n",
    "\n",
    "# baseline\n",
    "game = Game(10000)\n",
    "game.createGame((0, 0, 0, 0))\n",
    "game.startGame()\n",
    "moves = game.getValidMoves()\n",
    "while not game.won() and moves:\n",
    "    game.performMoves(moves[0])\n",
    "    moves = game.getValidMoves()\n",
    "print(game)\n",
    "print('Game#%d [%s] Score: %d   Moves: %d   Completed: %d' %\n",
    "                      (game.id, 'Won' if game.won() else 'Lost', game.score, game.moves, game.completed))"
   ]
  },
  {
   "cell_type": "code",
   "execution_count": 4,
   "metadata": {
    "scrolled": true
   },
   "outputs": [
    {
     "data": {
      "application/vnd.jupyter.widget-view+json": {
       "model_id": "f8a6a7becbed435880378d678cc36a68",
       "version_major": 2,
       "version_minor": 0
      },
      "text/html": [
       "<p>Failed to display Jupyter Widget of type <code>HBox</code>.</p>\n",
       "<p>\n",
       "  If you're reading this message in the Jupyter Notebook or JupyterLab Notebook, it may mean\n",
       "  that the widgets JavaScript is still loading. If this message persists, it\n",
       "  likely means that the widgets JavaScript library is either not installed or\n",
       "  not enabled. See the <a href=\"https://ipywidgets.readthedocs.io/en/stable/user_install.html\">Jupyter\n",
       "  Widgets Documentation</a> for setup instructions.\n",
       "</p>\n",
       "<p>\n",
       "  If you're reading this message in another frontend (for example, a static\n",
       "  rendering on GitHub or <a href=\"https://nbviewer.jupyter.org/\">NBViewer</a>),\n",
       "  it may mean that your frontend doesn't currently support widgets.\n",
       "</p>\n"
      ],
      "text/plain": [
       "HBox(children=(IntProgress(value=0, max=1000), HTML(value='')))"
      ]
     },
     "metadata": {},
     "output_type": "display_data"
    },
    {
     "name": "stdout",
     "output_type": "stream",
     "text": [
      "\n",
      "Won 42/1000 games, high score is 1200\n"
     ]
    }
   ],
   "source": [
    "high_score = 0\n",
    "win_count = 0\n",
    "count = 1000\n",
    "# agent.qnetwork_local.load_state_dict(torch.load('checkpoint.pth'))\n",
    "try:\n",
    "    with open('output/dqn-1suit.csv', 'w') as csvfile:\n",
    "        writer = csv.writer(csvfile)\n",
    "        writer.writerow(('ID', 'Result', 'Score', '#Moves', '#Stacks'))\n",
    "        for i in tqdm_notebook(range(count)):\n",
    "            game = Game(i)\n",
    "            game.createGame((0, 0, 0, 0))\n",
    "            game.startGame()\n",
    "            moves = getValidMoves(game.getVisibleState())\n",
    "            while not game.won() and moves:\n",
    "                state = np.array(game.getStateForDQN())\n",
    "                action = agent.act(state, moves)\n",
    "                game.performMovesForDQN(action)\n",
    "                if game.won():\n",
    "                    high_score = max(high_score, game.score)\n",
    "                    win_count += 1\n",
    "                moves = getValidMoves(game.getVisibleState())\n",
    "#             print('Game#%d [%s] Score: %d   Moves: %d   Completed: %d' %\n",
    "#                   (game.id, 'Won' if game.won() else 'Lost', game.score, game.moves, game.completed))\n",
    "            writer.writerow(map(str, (game.id, 'Won' if game.won()\n",
    "                                      else 'Lost', game.score, game.moves, game.completed)))\n",
    "except KeyboardInterrupt:\n",
    "    pass\n",
    "print('Won %d/%d games, high score is %d' % (win_count, count, high_score))\n"
   ]
  },
  {
   "cell_type": "code",
   "execution_count": 19,
   "metadata": {},
   "outputs": [
    {
     "data": {
      "application/vnd.jupyter.widget-view+json": {
       "model_id": "da53745b604441b6b963403d16b49548",
       "version_major": 2,
       "version_minor": 0
      },
      "text/html": [
       "<p>Failed to display Jupyter Widget of type <code>HBox</code>.</p>\n",
       "<p>\n",
       "  If you're reading this message in the Jupyter Notebook or JupyterLab Notebook, it may mean\n",
       "  that the widgets JavaScript is still loading. If this message persists, it\n",
       "  likely means that the widgets JavaScript library is either not installed or\n",
       "  not enabled. See the <a href=\"https://ipywidgets.readthedocs.io/en/stable/user_install.html\">Jupyter\n",
       "  Widgets Documentation</a> for setup instructions.\n",
       "</p>\n",
       "<p>\n",
       "  If you're reading this message in another frontend (for example, a static\n",
       "  rendering on GitHub or <a href=\"https://nbviewer.jupyter.org/\">NBViewer</a>),\n",
       "  it may mean that your frontend doesn't currently support widgets.\n",
       "</p>\n"
      ],
      "text/plain": [
       "HBox(children=(IntProgress(value=0, max=1000), HTML(value='')))"
      ]
     },
     "metadata": {},
     "output_type": "display_data"
    },
    {
     "name": "stdout",
     "output_type": "stream",
     "text": [
      "Won 10/1000 games, high score is 1204\n"
     ]
    }
   ],
   "source": [
    "high_score = 0\n",
    "win_count = 0\n",
    "count = 1000\n",
    "agent.qnetwork_local.load_state_dict(torch.load('checkpoint.pth'))\n",
    "try:\n",
    "    with open('output/dqn-1suit.csv', 'w') as csvfile:\n",
    "        writer = csv.writer(csvfile)\n",
    "        writer.writerow(('ID', 'Result', 'Score', '#Moves', '#Stacks'))\n",
    "        for i in tqdm_notebook(range(count)):\n",
    "            game = Game(i)\n",
    "            game.createGame((0, 0, 0, 0))\n",
    "            game.startGame()\n",
    "            moves = getValidMoves(game.getVisibleState())\n",
    "            while not game.won() and moves:\n",
    "                state = np.array(game.getStateForDQN())\n",
    "                action = agent.act(state, moves, 1)\n",
    "                game.performMovesForDQN(action)\n",
    "                if game.won():\n",
    "                    high_score = max(high_score, game.score)\n",
    "                    win_count += 1\n",
    "                moves = getValidMoves(game.getVisibleState())\n",
    "#             print('Game#%d [%s] Score: %d   Moves: %d   Completed: %d' %\n",
    "#                   (game.id, 'Won' if game.won() else 'Lost', game.score, game.moves, game.completed))\n",
    "            writer.writerow(map(str, (game.id, 'Won' if game.won()\n",
    "                                      else 'Lost', game.score, game.moves, game.completed)))\n",
    "except KeyboardInterrupt:\n",
    "    pass\n",
    "print('Won %d/%d games, high score is %d' % (win_count, count, high_score))\n"
   ]
  },
  {
   "cell_type": "code",
   "execution_count": null,
   "metadata": {},
   "outputs": [],
   "source": [
    "\n",
    "high_score = 0\n",
    "win_count = 0\n",
    "count = 1000\n",
    "try:\n",
    "    with open('output/greedy-1suit.csv', 'w') as csvfile:\n",
    "        writer = csv.writer(csvfile)\n",
    "        writer.writerow(('ID', 'Result', 'Score', '#Moves', '#Stacks'))\n",
    "        for i in tqdm_notebook(range(count)):\n",
    "            game = Game(i)\n",
    "            game.createGame((0, 0, 0, 0))\n",
    "            game.startGame()\n",
    "            moves = game.getValidMoves()\n",
    "            while not game.won() and moves:\n",
    "                move = moves[0] if random.random() > 0.01 else moves[-1]\n",
    "                game.performMoves(move)\n",
    "                if game.won():\n",
    "                    high_score = max(high_score, game.score)\n",
    "                    win_count += 1\n",
    "                moves = game.getValidMoves()\n",
    "#             print('Game#%d [%s] Score: %d   Moves: %d   Completed: %d' %\n",
    "#                   (game.id, 'Won' if game.won() else 'Lost', game.score, game.moves, game.completed))\n",
    "            writer.writerow(map(str, (game.id, 'Won' if game.won()\n",
    "                                      else 'Lost', game.score, game.moves, game.completed)))\n",
    "except KeyboardInterrupt:\n",
    "    pass\n",
    "print('Won %d/%d games, high score is %d' % (win_count, count, high_score))"
   ]
  }
 ],
 "metadata": {
  "kernelspec": {
   "display_name": "Python 3",
   "language": "python",
   "name": "python3"
  },
  "language_info": {
   "codemirror_mode": {
    "name": "ipython",
    "version": 3
   },
   "file_extension": ".py",
   "mimetype": "text/x-python",
   "name": "python",
   "nbconvert_exporter": "python",
   "pygments_lexer": "ipython3",
   "version": "3.6.4"
  }
 },
 "nbformat": 4,
 "nbformat_minor": 2
}
