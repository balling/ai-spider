{
 "cells": [
  {
   "cell_type": "markdown",
   "metadata": {},
   "source": [
    "# Deep Q-Network (DQN)\n",
    "---\n",
    "In this notebook, you will implement a DQN agent with OpenAI Gym's LunarLander-v2 environment.\n",
    "\n",
    "### 1. Import the Necessary Packages"
   ]
  },
  {
   "cell_type": "code",
   "execution_count": null,
   "metadata": {},
   "outputs": [],
   "source": [
    "import random\n",
    "import torch\n",
    "import numpy as np\n",
    "from infra.game import Game\n",
    "from infra.util import getValidMoves\n",
    "import csv\n",
    "import math\n",
    "from collections import deque\n",
    "import matplotlib.pyplot as plt\n",
    "from dqn_agent import Agent\n",
    "%matplotlib inline"
   ]
  },
  {
   "cell_type": "markdown",
   "metadata": {},
   "source": [
    "### 2. Instantiate the Environment and Agent\n",
    "\n",
    "Initialize the environment in the code cell below."
   ]
  },
  {
   "cell_type": "code",
   "execution_count": 9,
   "metadata": {},
   "outputs": [
    {
     "name": "stdout",
     "output_type": "stream",
     "text": [
      "-♤  J- -♤  7- -♤  2- -♤  6- -♤  8- -♤  A- -♤  J- -♤  K- -♤  K- -♤ 10-\n",
      "-♤  7- -♤ 10- -♤  2- -♤  K- -♤  5- -♤  J- -♤  Q- -♤  K- -♤  2- -♤  7-\n",
      "-♤  4- -♤  K- -♤  6- -♤  A- -♤  9- -♤ 10- -♤  4- -♤  9- -♤  7- -♤  8-\n",
      "-♤  3- -♤  4- -♤  2- -♤  A- -♤  4- -♤  5- -♤  2- -♤  9- -♤  8- -♤  2-\n",
      "-♤  Q- -♤  8- -♤  J- -♤  K-  ♤  J   ♤  A   ♤  3   ♤  6   ♤  9   ♤  3 \n",
      " ♤  9   ♤  A   ♤  Q   ♤  5                                           \n",
      "Game#0 Score: 500   Moves: 0   Completed: 0   Undealt: 5\n",
      "-♤  J- -♤  7- -♤  2- -♤  6- -♤  8- -♤  A- -♤  J- -♤  K- -♤  K- -♤ 10-\n",
      "-♤  7- -♤ 10- -♤  2- -♤  K- -♤  5- -♤  J- -♤  Q- -♤  K- -♤  2- -♤  7-\n",
      "-♤  4- -♤  K- -♤  6- -♤  A- -♤  9- -♤ 10- -♤  4- -♤  9- -♤  7- -♤  8-\n",
      "-♤  3- -♤  4- -♤  2- -♤  A- -♤  4- -♤  5- -♤  2- -♤  9- -♤  8- -♤  2-\n",
      "-♤  Q- -♤  8- -♤  J-  ♤  K   ♤  J   ♤  A   ♤  3   ♤  6   ♤  9   ♤  3 \n",
      " ♤  9   ♤  A   ♤  Q                               ♤  5               \n",
      "Game#0 Score: 499   Moves: 1   Completed: 0   Undealt: 5\n",
      "-♤  J- -♤  7- -♤  2- -♤  6- -♤  8- -♤  A- -♤  J- -♤  K- -♤  K- -♤ 10-\n",
      "-♤  7- -♤ 10- -♤  2- -♤  K- -♤  5- -♤  J- -♤  Q- -♤  K- -♤  2- -♤  7-\n",
      "-♤  4- -♤  K- -♤  6- -♤  A- -♤  9- -♤ 10- -♤  4- -♤  9- -♤  7- -♤  8-\n",
      "-♤  3- -♤  4- -♤  2- -♤  A- -♤  4- -♤  5- -♤  2- -♤  9- -♤  8- -♤  2-\n",
      "-♤  Q- -♤  8-  ♤  J   ♤  K   ♤  J   ♤  A   ♤  3   ♤  6   ♤  9   ♤  3 \n",
      " ♤  9   ♤  A          ♤  Q                        ♤  5               \n",
      "Game#0 Score: 498   Moves: 2   Completed: 0   Undealt: 5\n",
      "-♤  J- -♤  7- -♤  2- -♤  6- -♤  8- -♤  A- -♤  J- -♤  K- -♤  K- -♤ 10-\n",
      "-♤  7- -♤ 10- -♤  2- -♤  K- -♤  5- -♤  J- -♤  Q- -♤  K- -♤  2- -♤  7-\n",
      "-♤  4- -♤  K- -♤  6- -♤  A- -♤  9- -♤ 10- -♤  4- -♤  9- -♤  7- -♤  8-\n",
      "-♤  3- -♤  4-  ♤  2  -♤  A- -♤  4- -♤  5- -♤  2- -♤  9- -♤  8- -♤  2-\n",
      "-♤  Q- -♤  8-         ♤  K   ♤  J   ♤  A   ♤  3   ♤  6   ♤  9   ♤  3 \n",
      " ♤  9   ♤  A          ♤  Q                        ♤  5               \n",
      "                      ♤  J                                           \n",
      "Game#0 Score: 497   Moves: 3   Completed: 0   Undealt: 5\n"
     ]
    }
   ],
   "source": [
    "from dqn_agent import Agent\n",
    "# one suit case \n",
    "# state space: initial state 104!/(8!)^13 * (C_54^10 + ... + C_104^10) +\n",
    "# 91!/(8!)^12 * (C_41^10 + ... + C_91^10)... + 13!*C_13^10 + 1\n",
    "# action space: deal and move 10 columns move to the other 9 cols, move at most 12 cards, 10*9*12+1\n",
    "# According to this method, we can simply say the size of state space equals to 104 \n",
    "# And one way is we record the know of the numbr of the cards (flip equal to 0) and record \n",
    "# 10 columns (num)  + stock number + how many completed\n",
    "# the action should be move or deal \n",
    "# (avoid too complex action space, we set every move we only move the valid move 0)\n",
    "\n",
    "agent = Agent(state_size=115, action_size=1081, seed=0)\n",
    "# watch an untrained agent\n",
    "game = Game(0)\n",
    "game.createGame((0, 0, 0, 0))\n",
    "game.startGame()\n",
    "print(game)\n",
    "for i in range(3):\n",
    "    moves = getValidMoves(game.getVisibleState())\n",
    "    state = np.array(game.getStateForDQN())\n",
    "    # how to use agent to get the actions / how to modify the actions\n",
    "    action = agent.act(state, moves)\n",
    "    game.performMovesForDQN(action)\n",
    "    print(game)\n"
   ]
  },
  {
   "cell_type": "markdown",
   "metadata": {},
   "source": [
    "### 3. Train the Agent with DQN\n",
    "\n",
    "Run the code cell below to train the agent from scratch.  You are welcome to amend the supplied values of the parameters in the function, to try to see if you can get better performance!\n",
    "\n",
    "Alternatively, you can skip to the next step below (**4. Watch a Smart Agent!**), to load the saved model weights from a pre-trained agent."
   ]
  },
  {
   "cell_type": "code",
   "execution_count": 15,
   "metadata": {},
   "outputs": [
    {
     "name": "stdout",
     "output_type": "stream",
     "text": [
      "Episode 100\tAverage Score: 494.05 \tCompleted: 0.0, eps: 0.9047921471137096\n",
      "Episode 200\tAverage Score: 495.45 \tCompleted: 0.0, eps: 0.818648829478636\n",
      "Episode 300\tAverage Score: 498.85 \tCompleted: 0.0033333333333333335, eps: 0.7407070321560997\n",
      "Episode 400\tAverage Score: 497.65 \tCompleted: 0.005, eps: 0.6701859060067403\n",
      "Episode 500\tAverage Score: 490.02 \tCompleted: 0.004, eps: 0.6063789448611848\n",
      "Episode 600\tAverage Score: 494.30 \tCompleted: 0.005, eps: 0.5486469074854965\n",
      "Episode 700\tAverage Score: 497.33 \tCompleted: 0.005714285714285714, eps: 0.4964114134310989\n",
      "Episode 800\tAverage Score: 494.97 \tCompleted: 0.005, eps: 0.4491491486100748\n",
      "Episode 900\tAverage Score: 489.04 \tCompleted: 0.0044444444444444444, eps: 0.4063866225452039\n",
      "Episode 1000\tAverage Score: 485.78 \tCompleted: 0.004, eps: 0.3676954247709635\n",
      "\n",
      "Running all 1000 episodes!\tNumber of complted game: 4.00\n",
      "4\n"
     ]
    },
    {
     "data": {
      "image/png": "[encoded data removed]",
      "text/plain": [
       "<Figure size 432x288 with 1 Axes>"
      ]
     },
     "metadata": {
      "needs_background": "light"
     },
     "output_type": "display_data"
    }
   ],
   "source": [
    "def dqn(n_episodes=1000, eps_start=1, eps_end=0.1, eps_decay=0.999):\n",
    "    \"\"\"Deep Q-Learning.\n",
    "    \n",
    "    Params\n",
    "    ======\n",
    "        n_episodes (int): maximum number of training episodes\n",
    "        eps_start (float): starting value of epsilon, for epsilon-greedy action selection\n",
    "        eps_end (float): minimum value of epsilon\n",
    "        eps_decay (float): multiplicative factor (per episode) for decreasing epsilon\n",
    "    \"\"\"\n",
    "    scores = []                        # list containing scores from each episode\n",
    "    scores_window = deque(maxlen=100)  # last 100 scores\n",
    "    numCompleted = 0\n",
    "    eps = eps_start                    # initialize epsilon\n",
    "    for i_episode in range(1, n_episodes+1):\n",
    "        game = Game(i_episode)\n",
    "        game.createGame((0, 0, 0, 0))\n",
    "        game.startGame()\n",
    "        score = game.score\n",
    "        moves = getValidMoves(game.getVisibleState())\n",
    "        # one game till win the game or cannot move\n",
    "        while not game.won() and moves:\n",
    "            state = np.array(game.getStateForDQN())\n",
    "            action = agent.act(state, moves, eps)\n",
    "            game.performMovesForDQN(action)\n",
    "            next_state = np.array(game.getStateForDQN())\n",
    "            reward = game.score - score\n",
    "            won = game.won()\n",
    "            if won:\n",
    "                reward += 10000\n",
    "                numCompleted += 1\n",
    "            agent.step(state, action, reward, next_state, game.won())\n",
    "            moves = getValidMoves(game.getVisibleState())\n",
    "            score = game.score\n",
    "        scores.append(score)              # save most recent score\n",
    "        scores_window.append(score)       # save most recent score\n",
    "        eps = max(eps_end, eps_decay*eps) # decrease epsilon\n",
    "#         print('\\rEpisode {}\\tAverage Score: {:.2f} \\tCompleted: {}'.format(i_episode, score, completed), end=\"\")\n",
    "        if i_episode % 100 == 0:\n",
    "            print('\\rEpisode {}\\tAverage Score: {:.2f} \\tCompleted: {}, eps: {}'.format(i_episode, np.mean(scores_window), numCompleted/i_episode, eps))\n",
    "        if numCompleted * 1.0 / i_episode > 0.45:\n",
    "            print('\\nEnvironment solved in {:d} episodes!\\tNumber of complted game: {:.2f}'.format(i_episode, numCompleted))\n",
    "            torch.save(agent.qnetwork_local.state_dict(), 'checkpoint.pth')\n",
    "            break\n",
    "        elif i_episode == n_episodes:\n",
    "            print('\\nRunning all {:d} episodes!\\tNumber of complted game: {:.2f}'.format(i_episode, numCompleted))\n",
    "            torch.save(agent.qnetwork_local.state_dict(), 'checkpoint.pth')\n",
    "    return scores, numCompleted\n",
    "\n",
    "agent = Agent(state_size=115, action_size=1081, seed=0)\n",
    "scores, numCompleted = dqn()\n",
    "\n",
    "# plot the scores\n",
    "print(numCompleted)\n",
    "fig = plt.figure()\n",
    "ax = fig.add_subplot(111)\n",
    "plt.plot(np.arange(len(scores)), scores)\n",
    "plt.ylabel('Score')\n",
    "plt.xlabel('Episode #')\n",
    "plt.show()"
   ]
  },
  {
   "cell_type": "markdown",
   "metadata": {},
   "source": [
    "### 4. Watch a Smart Agent!\n",
    "\n",
    "In the next code cell, you will load the trained weights from file to watch a smart agent!"
   ]
  },
  {
   "cell_type": "code",
   "execution_count": 16,
   "metadata": {},
   "outputs": [
    {
     "name": "stdout",
     "output_type": "stream",
     "text": [
      "-♤ 10- -♤  K- -♤  A- -♤  3- -♤  8- -♤  7- -♤  4- -♤ 10- -♤  9- -♤  6-\n",
      "-♤  2- -♤  9- -♤  Q- -♤  5- -♤  3- -♤ 10- -♤  6- -♤  Q- -♤  5- -♤  5-\n",
      "-♤  9- -♤  A- -♤  3- -♤  9- -♤  7- -♤  K- -♤  Q- -♤  3- -♤  2- -♤  K-\n",
      "-♤  9- -♤  4- -♤ 10- -♤  8- -♤  A- -♤  8- -♤  7- -♤  7- -♤ 10- -♤  2-\n",
      "-♤  7- -♤  3- -♤  K- -♤  Q-  ♤  8   ♤  3   ♤  9   ♤  7   ♤  Q   ♤  2 \n",
      " ♤ 10   ♤  A   ♤  Q   ♤  2                                           \n",
      "Game#10000 Score: 500   Moves: 0   Completed: 0   Undealt: 5\n",
      "-♤ 10- -♤  K- -♤  A- -♤  3- -♤  8- -♤  7- -♤  4- -♤ 10- -♤  9- -♤  6-\n",
      "-♤  2- -♤  9- -♤  Q- -♤  5- -♤  3- -♤ 10- -♤  6- -♤  Q- -♤  5- -♤  5-\n",
      "-♤  9- -♤  A- -♤  3- -♤  9- -♤  7- -♤  K- -♤  Q- -♤  3- -♤  2- -♤  K-\n",
      "-♤  9- -♤  4- -♤ 10- -♤  8- -♤  A- -♤  8- -♤  7- -♤  7- -♤ 10- -♤  2-\n",
      "-♤  7- -♤  3- -♤  K- -♤  Q-  ♤  8   ♤  3   ♤  9   ♤  7   ♤  Q   ♤  2 \n",
      " ♤ 10   ♤  A   ♤  Q   ♤  2   ♤  8   ♤  2   ♤  J   ♤  6   ♤  5   ♤  5 \n",
      " ♤ 10   ♤  6   ♤  J   ♤  J   ♤  4   ♤  K   ♤  J   ♤  5   ♤ 10   ♤  A \n",
      " ♤  4   ♤  J          ♤  J   ♤  Q   ♤  5   ♤  9   ♤  4   ♤  A   ♤  9 \n",
      "        ♤  K          ♤  J   ♤  6   ♤  K   ♤  8   ♤  3   ♤  8   ♤  8 \n",
      "        ♤  4                        ♤  K   ♤  7   ♤  2   ♤  4   ♤  7 \n",
      "        ♤  6                        ♤  Q   ♤  6   ♤  A   ♤  3   ♤  6 \n",
      "                                    ♤  J   ♤  5          ♤  2        \n",
      "                                           ♤  4          ♤  A        \n",
      "Game#10000 Score: 480   Moves: 20   Completed: 0   Undealt: 0\n",
      "Game#10000 [Lost] Score: 480   Moves: 20   Completed: 0\n",
      "Game#10000 Score: 1136   Moves: 172   Completed: 8   Undealt: 0\n",
      "Game#10000 [Won] Score: 1136   Moves: 172   Completed: 8\n"
     ]
    }
   ],
   "source": [
    "# load the weights from file\n",
    "agent.qnetwork_local.load_state_dict(torch.load('checkpoint.pth'))\n",
    "\n",
    "game = Game(10000)\n",
    "game.createGame((0, 0, 0, 0))\n",
    "game.startGame()\n",
    "print(game)\n",
    "moves = getValidMoves(game.getVisibleState())\n",
    "while not game.won() and moves:\n",
    "    state = np.array(game.getStateForDQN())\n",
    "    action = agent.act(state, moves)\n",
    "    game.performMovesForDQN(action)\n",
    "    moves = getValidMoves(game.getVisibleState())\n",
    "print(game)\n",
    "print('Game#%d [%s] Score: %d   Moves: %d   Completed: %d' %\n",
    "                      (game.id, 'Won' if game.won() else 'Lost', game.score, game.moves, game.completed))\n",
    "\n",
    "# baseline\n",
    "game = Game(10000)\n",
    "game.createGame((0, 0, 0, 0))\n",
    "game.startGame()\n",
    "moves = game.getValidMoves()\n",
    "while not game.won() and moves:\n",
    "    game.performMoves(moves[0])\n",
    "    moves = game.getValidMoves()\n",
    "print(game)\n",
    "print('Game#%d [%s] Score: %d   Moves: %d   Completed: %d' %\n",
    "                      (game.id, 'Won' if game.won() else 'Lost', game.score, game.moves, game.completed))"
   ]
  },
  {
   "cell_type": "code",
   "execution_count": 17,
   "metadata": {},
   "outputs": [],
   "source": [
    "high_score = 0\n",
    "win_count = 0\n",
    "count = 1000\n",
    "agent.qnetwork_local.load_state_dict(torch.load('checkpoint.pth'))"
   ]
  },
  {
   "cell_type": "code",
   "execution_count": null,
   "metadata": {
    "scrolled": false
   },
   "outputs": [],
   "source": [
    "try:\n",
    "    with open('output/dqn-1suit.csv', 'w') as csvfile:\n",
    "        writer = csv.writer(csvfile)\n",
    "        writer.writerow(('ID', 'Result', 'Score', '#Moves', '#Stacks'))\n",
    "        for i in range(count):\n",
    "            game = Game(i)\n",
    "            game.createGame((0, 0, 0, 0))\n",
    "            game.startGame()\n",
    "            print(game)\n",
    "            moves = getValidMoves(game.getVisibleState())\n",
    "            while not game.won() and moves:\n",
    "                state = np.array(game.getStateForDQN())\n",
    "                action = agent.act(state, moves)\n",
    "                game.performMovesForDQN(action)\n",
    "                if game.won():\n",
    "                    high_score = max(high_score, game.score)\n",
    "                    win_count += 1\n",
    "                moves = getValidMoves(game.getVisibleState())\n",
    "            print('Game#%d [%s] Score: %d   Moves: %d   Completed: %d' %\n",
    "                  (game.id, 'Won' if game.won() else 'Lost', game.score, game.moves, game.completed))\n",
    "            writer.writerow(map(str, (game.id, 'Won' if game.won()\n",
    "                                      else 'Lost', game.score, game.moves, game.completed)))\n",
    "except KeyboardInterrupt:\n",
    "    pass\n",
    "print('Won %d/%d games, high score is %d' % (win_count, count, high_score))\n"
   ]
  }
 ],
 "metadata": {
  "kernelspec": {
   "display_name": "Python 3",
   "language": "python",
   "name": "python3"
  },
  "language_info": {
   "codemirror_mode": {
    "name": "ipython",
    "version": 3
   },
   "file_extension": ".py",
   "mimetype": "text/x-python",
   "name": "python",
   "nbconvert_exporter": "python",
   "pygments_lexer": "ipython3",
   "version": "3.7.0"
  }
 },
 "nbformat": 4,
 "nbformat_minor": 2
}
