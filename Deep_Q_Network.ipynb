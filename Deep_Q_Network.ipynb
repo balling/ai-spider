{
 "cells": [
  {
   "cell_type": "markdown",
   "metadata": {},
   "source": [
    "# Deep Q-Network (DQN)\n",
    "---\n",
    "In this notebook, you will implement a DQN agent with OpenAI Gym's LunarLander-v2 environment.\n",
    "\n",
    "### 1. Import the Necessary Packages"
   ]
  },
  {
   "cell_type": "code",
   "execution_count": 1,
   "metadata": {},
   "outputs": [],
   "source": [
    "import random\n",
    "import torch\n",
    "import numpy as np\n",
    "from infra.game import Game\n",
    "import csv\n",
    "import math\n",
    "from collections import deque\n",
    "import matplotlib.pyplot as plt\n",
    "%matplotlib inline"
   ]
  },
  {
   "cell_type": "markdown",
   "metadata": {},
   "source": [
    "### 2. Instantiate the Environment and Agent\n",
    "\n",
    "Initialize the environment in the code cell below."
   ]
  },
  {
   "cell_type": "code",
   "execution_count": 2,
   "metadata": {},
   "outputs": [
    {
     "name": "stdout",
     "output_type": "stream",
     "text": [
      "-♤  J- -♤  7- -♤  2- -♤  6- -♤  8- -♤  A- -♤  J- -♤  K- -♤  K- -♤ 10-\n",
      "-♤  7- -♤ 10- -♤  2- -♤  K- -♤  5- -♤  J- -♤  Q- -♤  K- -♤  2- -♤  7-\n",
      "-♤  4- -♤  K- -♤  6- -♤  A- -♤  9- -♤ 10- -♤  4- -♤  9- -♤  7- -♤  8-\n",
      "-♤  3- -♤  4- -♤  2- -♤  A- -♤  4- -♤  5- -♤  2- -♤  9- -♤  8- -♤  2-\n",
      "-♤  Q- -♤  8- -♤  J- -♤  K-  ♤  J   ♤  A   ♤  3   ♤  6   ♤  9   ♤  3 \n",
      " ♤  9   ♤  A   ♤  Q   ♤  5                                           \n",
      "Game#0 Score: 500   Moves: 0   Completed: 0   Undealt: 5\n",
      "-♤  J- -♤  7- -♤  2- -♤  6- -♤  8- -♤  A- -♤  J- -♤  K- -♤  K- -♤ 10-\n",
      "-♤  7- -♤ 10- -♤  2- -♤  K- -♤  5- -♤  J- -♤  Q- -♤  K- -♤  2- -♤  7-\n",
      "-♤  4- -♤  K- -♤  6- -♤  A- -♤  9- -♤ 10- -♤  4- -♤  9- -♤  7- -♤  8-\n",
      "-♤  3- -♤  4- -♤  2- -♤  A-  ♤  4  -♤  5- -♤  2- -♤  9- -♤  8- -♤  2-\n",
      "-♤  Q- -♤  8- -♤  J- -♤  K-         ♤  A   ♤  3   ♤  6   ♤  9   ♤  3 \n",
      " ♤  9   ♤  A   ♤  Q   ♤  5                                           \n",
      "               ♤  J                                                  \n",
      "Game#0 Score: 498   Moves: 2   Completed: 0   Undealt: 5\n",
      "-♤  J- -♤  7- -♤  2- -♤  6- -♤  8- -♤  A- -♤  J- -♤  K- -♤  K- -♤ 10-\n",
      "-♤  7- -♤ 10- -♤  2- -♤  K- -♤  5- -♤  J- -♤  Q- -♤  K- -♤  2- -♤  7-\n",
      "-♤  4- -♤  K- -♤  6- -♤  A- -♤  9- -♤ 10- -♤  4- -♤  9- -♤  7- -♤  8-\n",
      "-♤  3- -♤  4- -♤  2- -♤  A-  ♤  4  -♤  5- -♤  2- -♤  9- -♤  8-  ♤  2 \n",
      "-♤  Q- -♤  8- -♤  J- -♤  K-  ♤  3   ♤  A   ♤  3   ♤  6   ♤  9        \n",
      " ♤  9   ♤  A   ♤  Q   ♤  5                                           \n",
      "               ♤  J                                                  \n",
      "Game#0 Score: 496   Moves: 4   Completed: 0   Undealt: 5\n",
      "-♤  J- -♤  7- -♤  2- -♤  6- -♤  8- -♤  A- -♤  J- -♤  K- -♤  K- -♤ 10-\n",
      "-♤  7- -♤ 10- -♤  2- -♤  K- -♤  5- -♤  J- -♤  Q- -♤  K- -♤  2- -♤  7-\n",
      "-♤  4- -♤  K- -♤  6- -♤  A-  ♤  9  -♤ 10- -♤  4- -♤  9- -♤  7- -♤  8-\n",
      "-♤  3- -♤  4- -♤  2- -♤  A-        -♤  5- -♤  2- -♤  9- -♤  8-  ♤  2 \n",
      "-♤  Q- -♤  8- -♤  J- -♤  K-         ♤  A   ♤  3   ♤  6   ♤  9        \n",
      " ♤  9   ♤  A   ♤  Q   ♤  5                                           \n",
      "               ♤  J   ♤  4                                           \n",
      "                      ♤  3                                           \n",
      "Game#0 Score: 494   Moves: 6   Completed: 0   Undealt: 5\n",
      "-♤  J- -♤  7- -♤  2- -♤  6- -♤  8- -♤  A- -♤  J- -♤  K- -♤  K- -♤ 10-\n",
      "-♤  7- -♤ 10- -♤  2- -♤  K- -♤  5- -♤  J- -♤  Q- -♤  K- -♤  2- -♤  7-\n",
      "-♤  4- -♤  K- -♤  6- -♤  A-  ♤  9  -♤ 10- -♤  4- -♤  9- -♤  7- -♤  8-\n",
      "-♤  3- -♤  4- -♤  2- -♤  A-        -♤  5- -♤  2- -♤  9- -♤  8-  ♤  2 \n",
      "-♤  Q- -♤  8- -♤  J-  ♤  K          ♤  A   ♤  3   ♤  6   ♤  9        \n",
      " ♤  9   ♤  A   ♤  Q                               ♤  5               \n",
      "               ♤  J                               ♤  4               \n",
      "                                                  ♤  3               \n",
      "Game#0 Score: 492   Moves: 8   Completed: 0   Undealt: 5\n",
      "-♤  J- -♤  7- -♤  2- -♤  6- -♤  8- -♤  A- -♤  J- -♤  K- -♤  K- -♤ 10-\n",
      "-♤  7- -♤ 10- -♤  2- -♤  K- -♤  5- -♤  J- -♤  Q- -♤  K- -♤  2- -♤  7-\n",
      "-♤  4- -♤  K- -♤  6- -♤  A-  ♤  9  -♤ 10- -♤  4- -♤  9- -♤  7- -♤  8-\n",
      "-♤  3- -♤  4- -♤  2- -♤  A-        -♤  5- -♤  2- -♤  9- -♤  8-  ♤  2 \n",
      "-♤  Q- -♤  8-  ♤  J   ♤  K          ♤  A   ♤  3   ♤  6   ♤  9        \n",
      " ♤  9   ♤  A          ♤  Q                        ♤  5               \n",
      "                      ♤  J                        ♤  4               \n",
      "                                                  ♤  3               \n",
      "Game#0 Score: 490   Moves: 10   Completed: 0   Undealt: 5\n"
     ]
    }
   ],
   "source": [
    "from dqn_agent import Agent\n",
    "# one suit case \n",
    "# state space: initial state 104!/(8!)^13 * (C_54^10 + ... + C_104^10) +\n",
    "# 91!/(8!)^12 * (C_41^10 + ... + C_91^10)... + 13!*C_13^10 + 1\n",
    "# action space: deal and move 10 columns move to the other 9 cols, move at most 12 cards, 10*9*12+1\n",
    "# According to this method, we can simply say the size of state space equals to 104 \n",
    "# And one way is we record the know of the numbr of the cards (flip equal to 0) and record \n",
    "# 10 columns (num)  + stock number + how many completed\n",
    "# the action should be move or deal \n",
    "# (avoid too complex action space, we set every move we only move the valid move 0)\n",
    "\n",
    "agent = Agent(state_size=115, action_size=2, seed=0)\n",
    "# watch an untrained agent\n",
    "game = Game(0)\n",
    "game.createGame((0, 0, 0, 0))\n",
    "game.startGame()\n",
    "print(game)\n",
    "for i in range(3):\n",
    "    state = np.array(game.getStateForDQN())\n",
    "    # how to use agent to get the actions / how to modify the actions\n",
    "    action = agent.act(state)\n",
    "    game.performMovesForDQN(action)\n",
    "    print(game)\n"
   ]
  },
  {
   "cell_type": "markdown",
   "metadata": {},
   "source": [
    "### 3. Train the Agent with DQN\n",
    "\n",
    "Run the code cell below to train the agent from scratch.  You are welcome to amend the supplied values of the parameters in the function, to try to see if you can get better performance!\n",
    "\n",
    "Alternatively, you can skip to the next step below (**4. Watch a Smart Agent!**), to load the saved model weights from a pre-trained agent."
   ]
  },
  {
   "cell_type": "code",
   "execution_count": 8,
   "metadata": {},
   "outputs": [
    {
     "name": "stdout",
     "output_type": "stream",
     "text": [
      "Episode 100\tAverage Score: 479.10 \tCompleted: 0\n",
      "Episode 200\tAverage Score: 481.07 \tCompleted: 0\n",
      "Episode 300\tAverage Score: 490.38 \tCompleted: 01\n",
      "Episode 400\tAverage Score: 492.75 \tCompleted: 01\n",
      "Episode 500\tAverage Score: 477.10 \tCompleted: 0\n",
      "Episode 600\tAverage Score: 480.72 \tCompleted: 0\n",
      "Episode 700\tAverage Score: 490.15 \tCompleted: 01\n",
      "Episode 800\tAverage Score: 490.61 \tCompleted: 01\n",
      "Episode 900\tAverage Score: 491.15 \tCompleted: 0\n",
      "Episode 1000\tAverage Score: 488.50 \tCompleted: 0\n",
      "4\n"
     ]
    },
    {
     "data": {
      "image/png": "[encoded data removed]",
      "text/plain": [
       "<Figure size 432x288 with 1 Axes>"
      ]
     },
     "metadata": {
      "needs_background": "light"
     },
     "output_type": "display_data"
    }
   ],
   "source": [
    "def dqn(n_episodes=1000, eps_start=1.0, eps_end=0.01, eps_decay=0.995):\n",
    "    \"\"\"Deep Q-Learning.\n",
    "    \n",
    "    Params\n",
    "    ======\n",
    "        n_episodes (int): maximum number of training episodes\n",
    "        eps_start (float): starting value of epsilon, for epsilon-greedy action selection\n",
    "        eps_end (float): minimum value of epsilon\n",
    "        eps_decay (float): multiplicative factor (per episode) for decreasing epsilon\n",
    "    \"\"\"\n",
    "    scores = []                        # list containing scores from each episode\n",
    "    scores_window = deque(maxlen=100)  # last 100 scores\n",
    "    numCompleted = 0\n",
    "    eps = eps_start                    # initialize epsilon\n",
    "    for i_episode in range(1, n_episodes+1):\n",
    "        game = Game(i)\n",
    "        game.createGame((0, 0, 0, 0))\n",
    "        game.startGame()\n",
    "        score = game.score\n",
    "        moves = game.getValidMoves()\n",
    "        completed = 0\n",
    "        # one game till win the game or cannot move\n",
    "        while not game.won() and moves:\n",
    "            state = np.array(game.getStateForDQN())\n",
    "            action = agent.act(state, eps)\n",
    "            game.performMovesForDQN(action)\n",
    "            next_state = np.array(game.getStateForDQN())\n",
    "            reward = game.score - score\n",
    "            agent.step(state, action, reward, next_state, game.won())\n",
    "            moves = game.getValidMoves()\n",
    "            score = game.score\n",
    "        if game.won():\n",
    "            completed = 1\n",
    "            numCompleted += 1\n",
    "        scores.append(score)              # save most recent score\n",
    "        scores_window.append(score)       # save most recent score\n",
    "        eps = max(eps_end, eps_decay*eps) # decrease epsilon\n",
    "        print('\\rEpisode {}\\tAverage Score: {:.2f} \\tCompleted: {}'.format(i_episode, score, completed), end=\"\")\n",
    "        if i_episode % 100 == 0:\n",
    "            print('\\rEpisode {}\\tAverage Score: {:.2f} \\tCompleted: {}'.format(i_episode, np.mean(scores_window), numCompleted))\n",
    "        if numCompleted * 1.0 / i_episode > 0.45:\n",
    "            print('\\nEnvironment solved in {:d} episodes!\\tNumber of complted game: {:.2f}'.format(i_episode, numCompleted))\n",
    "            torch.save(agent.qnetwork_local.state_dict(), 'checkpoint.pth')\n",
    "            break\n",
    "        elif i_episode == n_episodes+1:\n",
    "            print('\\nRunning all {:d} episodes!\\tNumber of complted game: {:.2f}'.format(i_episode, numCompleted))\n",
    "            torch.save(agent.qnetwork_local.state_dict(), 'checkpoint.pth')\n",
    "    return scores, numCompleted\n",
    "\n",
    "scores, numCompleted = dqn()\n",
    "\n",
    "# plot the scores\n",
    "print(numCompleted)\n",
    "fig = plt.figure()\n",
    "ax = fig.add_subplot(111)\n",
    "plt.plot(np.arange(len(scores)), scores)\n",
    "plt.ylabel('Score')\n",
    "plt.xlabel('Episode #')\n",
    "plt.show()"
   ]
  },
  {
   "cell_type": "markdown",
   "metadata": {},
   "source": [
    "### 4. Watch a Smart Agent!\n",
    "\n",
    "In the next code cell, you will load the trained weights from file to watch a smart agent!"
   ]
  },
  {
   "cell_type": "code",
   "execution_count": 15,
   "metadata": {},
   "outputs": [
    {
     "name": "stdout",
     "output_type": "stream",
     "text": [
      "-♤  A- -♤  4- -♤  4- -♤  5- -♤  3- -♤ 10- -♤ 10- -♤  J- -♤  4- -♤  3-\n",
      "-♤  3- -♤  7- -♤  K- -♤  3- -♤  8- -♤  7- -♤  J- -♤  2- -♤  9- -♤  4-\n",
      "-♤ 10- -♤  8- -♤  4- -♤  J- -♤  A- -♤  6- -♤  9- -♤  J- -♤  K- -♤  7-\n",
      "-♤  A- -♤  8- -♤  2- -♤  7- -♤  2- -♤  J- -♤ 10- -♤  6- -♤  Q- -♤  Q-\n",
      "-♤  A- -♤  K- -♤  5- -♤  3-  ♤  J   ♤  5   ♤  2   ♤  4   ♤  5   ♤  K \n",
      " ♤  9   ♤  A   ♤  4   ♤  9                                           \n",
      "Game#10000 Score: 500   Moves: 0   Completed: 0   Undealt: 5\n",
      "-♤  A- -♤  4- -♤  4- -♤  5- -♤  3- -♤ 10- -♤ 10- -♤  J- -♤  4- -♤  3-\n",
      "-♤  3- -♤  7- -♤  K- -♤  3- -♤  8- -♤  7- -♤  J- -♤  2- -♤  9- -♤  4-\n",
      "-♤ 10- -♤  8- -♤  4- -♤  J- -♤  A- -♤  6-  ♤  9  -♤  J- -♤  K- -♤  7-\n",
      "-♤  A- -♤  8-  ♤  2  -♤  7- -♤  2- -♤  J-  ♤  8   ♤  6  -♤  Q- -♤  Q-\n",
      "-♤  A- -♤  K-        -♤  3-  ♤  J   ♤  5   ♤  7   ♤  Q   ♤  5   ♤  K \n",
      " ♤  9   ♤  A          ♤  9   ♤  Q   ♤ 10   ♤  6   ♤  8   ♤  4   ♤  9 \n",
      " ♤  K   ♤  J          ♤  8   ♤  Q   ♤  2   ♤  5   ♤ 10   ♤  6   ♤  8 \n",
      " ♤  J   ♤ 10          ♤  6   ♤  9   ♤  Q   ♤  4   ♤  6   ♤  2   ♤  7 \n",
      " ♤ 10   ♤  9          ♤  Q   ♤  K   ♤ 10   ♤  3   ♤  5   ♤  5   ♤  6 \n",
      " ♤  9                 ♤  7          ♤  3   ♤  2          ♤  Q   ♤  5 \n",
      " ♤  8                 ♤  K          ♤  2   ♤  A          ♤  K   ♤  4 \n",
      " ♤  7                               ♤  A                        ♤  3 \n",
      " ♤  6                                                           ♤  2 \n",
      " ♤  5                                                           ♤  A \n",
      "Game#10000 Score: 447   Moves: 53   Completed: 0   Undealt: 0\n",
      "Game#10000 [Lost] Score: 447   Moves: 53   Completed: 0\n",
      "-♤  7- -♤  6- -♤  9- -♤  5- -♤  Q-  ♤  8  -♤ 10-  ♤  3  -♤  4-  ♤  K \n",
      "-♤  J- -♤  4- -♤  5- -♤  9- -♤ 10-  ♤  7  -♤ 10-  ♤  4  -♤  4-  ♤  Q \n",
      "-♤  9- -♤  3- -♤  J- -♤  8- -♤  J-  ♤  6  -♤  6-  ♤  3  -♤  5-  ♤  J \n",
      "-♤  3-  ♤  9  -♤  Q- -♤  K- -♤  A-  ♤  5   ♤  K   ♤  2   ♤  2   ♤ 10 \n",
      "-♤  7-  ♤  K   ♤  A  -♤  8-  ♤  A   ♤  4   ♤  Q   ♤  K          ♤  9 \n",
      " ♤  A   ♤  5   ♤ 10   ♤  4   ♤  6   ♤  3   ♤  J   ♤  Q          ♤  8 \n",
      " ♤  2          ♤  9   ♤  8   ♤  3   ♤  2   ♤ 10   ♤  J          ♤  7 \n",
      " ♤  A          ♤  8   ♤  7   ♤  2   ♤  A                             \n",
      "               ♤  7   ♤  6                                           \n",
      "               ♤  6   ♤  5                                           \n",
      "               ♤  2   ♤  K                                           \n",
      "                      ♤  Q                                           \n",
      "Game#10000 Score: 593   Moves: 109   Completed: 2   Undealt: 0\n",
      "Game#10000 [Lost] Score: 593   Moves: 109   Completed: 2\n"
     ]
    }
   ],
   "source": [
    "# load the weights from file\n",
    "agent.qnetwork_local.load_state_dict(torch.load('checkpoint.pth'))\n",
    "\n",
    "game = Game(10000)\n",
    "game.createGame((0, 0, 0, 0))\n",
    "game.startGame()\n",
    "print(game)\n",
    "moves = game.getValidMoves()\n",
    "while not game.won() and moves:\n",
    "    state = np.array(game.getStateForDQN())\n",
    "    action = agent.act(state)\n",
    "    game.performMovesForDQN(action)\n",
    "    moves = game.getValidMoves()\n",
    "print(game)\n",
    "print('Game#%d [%s] Score: %d   Moves: %d   Completed: %d' %\n",
    "                      (game.id, 'Won' if game.won() else 'Lost', game.score, game.moves, game.completed))\n",
    "\n",
    "# baseline\n",
    "game = Game(10000)\n",
    "game.createGame((0, 0, 0, 0))\n",
    "game.startGame()\n",
    "moves = game.getValidMoves()\n",
    "while not game.won() and moves:\n",
    "    game.performMoves(moves[0])\n",
    "    moves = game.getValidMoves()\n",
    "print(game)\n",
    "print('Game#%d [%s] Score: %d   Moves: %d   Completed: %d' %\n",
    "                      (game.id, 'Won' if game.won() else 'Lost', game.score, game.moves, game.completed))"
   ]
  },
  {
   "cell_type": "code",
   "execution_count": null,
   "metadata": {},
   "outputs": [],
   "source": []
  }
 ],
 "metadata": {
  "kernelspec": {
   "display_name": "Python 3",
   "language": "python",
   "name": "python3"
  },
  "language_info": {
   "codemirror_mode": {
    "name": "ipython",
    "version": 3
   },
   "file_extension": ".py",
   "mimetype": "text/x-python",
   "name": "python",
   "nbconvert_exporter": "python",
   "pygments_lexer": "ipython3",
   "version": "3.7.0"
  }
 },
 "nbformat": 4,
 "nbformat_minor": 2
}
